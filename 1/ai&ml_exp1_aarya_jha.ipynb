{
 "cells": [
  {
   "cell_type": "code",
   "execution_count": 1,
   "metadata": {},
   "outputs": [
    {
     "name": "stdout",
     "output_type": "stream",
     "text": [
      "Collecting ann_visualizer\n",
      "  Downloading ann_visualizer-2.5.tar.gz (4.7 kB)\n",
      "Building wheels for collected packages: ann-visualizer\n",
      "  Building wheel for ann-visualizer (setup.py): started\n",
      "  Building wheel for ann-visualizer (setup.py): finished with status 'done'\n",
      "  Created wheel for ann-visualizer: filename=ann_visualizer-2.5-py3-none-any.whl size=4168 sha256=9220b77da755b5c2aa54d4b2bdc087c7d888eba43271df51feaefcc4a9863b3c\n",
      "  Stored in directory: c:\\users\\aj240\\appdata\\local\\pip\\cache\\wheels\\2d\\d8\\86\\67f4a249969eaaa31c6df569f4ebfa84634fae3af2c627107b\n",
      "Successfully built ann-visualizer\n",
      "Installing collected packages: ann-visualizer\n",
      "Successfully installed ann-visualizer-2.5\n"
     ]
    },
    {
     "name": "stderr",
     "output_type": "stream",
     "text": [
      "  WARNING: Retrying (Retry(total=4, connect=None, read=None, redirect=None, status=None)) after connection broken by 'ConnectTimeoutError(<pip._vendor.urllib3.connection.HTTPSConnection object at 0x0000025A767110D0>, 'Connection to files.pythonhosted.org timed out. (connect timeout=15)')': /packages/db/51/157be500337fba347e32711aaf9f11c1ba9e1162f486a1d708b4ae594ea4/ann_visualizer-2.5.tar.gz\n"
     ]
    },
    {
     "name": "stdout",
     "output_type": "stream",
     "text": [
      "Collecting graphviz\n",
      "  Downloading graphviz-0.20.1-py3-none-any.whl (47 kB)\n",
      "Installing collected packages: graphviz\n",
      "Successfully installed graphviz-0.20.1\n"
     ]
    }
   ],
   "source": [
    "!pip install ann_visualizer\n",
    "!pip install graphviz"
   ]
  },
  {
   "cell_type": "code",
   "execution_count": 2,
   "metadata": {},
   "outputs": [],
   "source": [
    "import pandas as pd\n",
    "from keras.models import Sequential\n",
    "from keras.layers import Dense\n",
    "from ann_visualizer.visualize import ann_viz"
   ]
  },
  {
   "cell_type": "code",
   "execution_count": 3,
   "metadata": {},
   "outputs": [],
   "source": [
    "import os\n",
    "os.environ[\"PATH\"] += os.pathsep + 'C:/Program Files/Graphviz/bin'"
   ]
  },
  {
   "cell_type": "code",
   "execution_count": 4,
   "metadata": {},
   "outputs": [],
   "source": [
    "df = pd.read_csv('pima-indians-diabetes.csv')"
   ]
  },
  {
   "cell_type": "code",
   "execution_count": 5,
   "metadata": {},
   "outputs": [
    {
     "name": "stdout",
     "output_type": "stream",
     "text": [
      "<class 'pandas.core.frame.DataFrame'>\n",
      "RangeIndex: 767 entries, 0 to 766\n",
      "Data columns (total 9 columns):\n",
      " #   Column  Non-Null Count  Dtype  \n",
      "---  ------  --------------  -----  \n",
      " 0   6       767 non-null    int64  \n",
      " 1   148     767 non-null    int64  \n",
      " 2   72      767 non-null    int64  \n",
      " 3   35      767 non-null    int64  \n",
      " 4   0       767 non-null    int64  \n",
      " 5   33.6    767 non-null    float64\n",
      " 6   0.627   767 non-null    float64\n",
      " 7   50      767 non-null    int64  \n",
      " 8   1       767 non-null    int64  \n",
      "dtypes: float64(2), int64(7)\n",
      "memory usage: 54.1 KB\n"
     ]
    }
   ],
   "source": [
    "df.info()"
   ]
  },
  {
   "cell_type": "code",
   "execution_count": 6,
   "metadata": {},
   "outputs": [
    {
     "data": {
      "text/plain": [
       "Index(['6', '148', '72', '35', '0', '33.6', '0.627', '50', '1'], dtype='object')"
      ]
     },
     "execution_count": 6,
     "metadata": {},
     "output_type": "execute_result"
    }
   ],
   "source": [
    "df.columns"
   ]
  },
  {
   "cell_type": "code",
   "execution_count": 7,
   "metadata": {},
   "outputs": [],
   "source": [
    "X=df.iloc[:,0:-1].values"
   ]
  },
  {
   "cell_type": "code",
   "execution_count": 8,
   "metadata": {},
   "outputs": [],
   "source": [
    "y=df.iloc[:,8].values"
   ]
  },
  {
   "cell_type": "code",
   "execution_count": 9,
   "metadata": {
    "scrolled": true
   },
   "outputs": [
    {
     "name": "stdout",
     "output_type": "stream",
     "text": [
      "Epoch 1/100\n",
      "77/77 [==============================] - 1s 1ms/step - loss: 10.2106 - accuracy: 0.3468\n",
      "Epoch 2/100\n",
      "77/77 [==============================] - 0s 1ms/step - loss: 2.0491 - accuracy: 0.5150\n",
      "Epoch 3/100\n",
      "77/77 [==============================] - 0s 934us/step - loss: 0.9768 - accuracy: 0.6167\n",
      "Epoch 4/100\n",
      "77/77 [==============================] - 0s 1ms/step - loss: 0.8587 - accuracy: 0.6037\n",
      "Epoch 5/100\n",
      "77/77 [==============================] - 0s 1ms/step - loss: 0.8056 - accuracy: 0.6154\n",
      "Epoch 6/100\n",
      "77/77 [==============================] - 0s 1ms/step - loss: 0.7558 - accuracy: 0.6167\n",
      "Epoch 7/100\n",
      "77/77 [==============================] - 0s 949us/step - loss: 0.7164 - accuracy: 0.6336\n",
      "Epoch 8/100\n",
      "77/77 [==============================] - 0s 1ms/step - loss: 0.7061 - accuracy: 0.6493\n",
      "Epoch 9/100\n",
      "77/77 [==============================] - 0s 977us/step - loss: 0.6817 - accuracy: 0.6415\n",
      "Epoch 10/100\n",
      "77/77 [==============================] - 0s 1ms/step - loss: 0.6641 - accuracy: 0.6402\n",
      "Epoch 11/100\n",
      "77/77 [==============================] - 0s 1ms/step - loss: 0.6566 - accuracy: 0.6584\n",
      "Epoch 12/100\n",
      "77/77 [==============================] - 0s 1ms/step - loss: 0.6417 - accuracy: 0.6532\n",
      "Epoch 13/100\n",
      "77/77 [==============================] - 0s 987us/step - loss: 0.6337 - accuracy: 0.6649\n",
      "Epoch 14/100\n",
      "77/77 [==============================] - 0s 952us/step - loss: 0.6352 - accuracy: 0.6649\n",
      "Epoch 15/100\n",
      "77/77 [==============================] - 0s 1ms/step - loss: 0.6247 - accuracy: 0.6662\n",
      "Epoch 16/100\n",
      "77/77 [==============================] - 0s 1ms/step - loss: 0.6143 - accuracy: 0.6767\n",
      "Epoch 17/100\n",
      "77/77 [==============================] - 0s 1ms/step - loss: 0.6116 - accuracy: 0.6793\n",
      "Epoch 18/100\n",
      "77/77 [==============================] - 0s 1ms/step - loss: 0.6059 - accuracy: 0.6806\n",
      "Epoch 19/100\n",
      "77/77 [==============================] - 0s 1ms/step - loss: 0.6007 - accuracy: 0.6845\n",
      "Epoch 20/100\n",
      "77/77 [==============================] - 0s 1ms/step - loss: 0.6025 - accuracy: 0.6988\n",
      "Epoch 21/100\n",
      "77/77 [==============================] - 0s 986us/step - loss: 0.6048 - accuracy: 0.6845\n",
      "Epoch 22/100\n",
      "77/77 [==============================] - 0s 953us/step - loss: 0.6074 - accuracy: 0.6754\n",
      "Epoch 23/100\n",
      "77/77 [==============================] - 0s 1ms/step - loss: 0.5939 - accuracy: 0.6871\n",
      "Epoch 24/100\n",
      "77/77 [==============================] - 0s 987us/step - loss: 0.5974 - accuracy: 0.6845\n",
      "Epoch 25/100\n",
      "77/77 [==============================] - 0s 950us/step - loss: 0.5921 - accuracy: 0.6949\n",
      "Epoch 26/100\n",
      "77/77 [==============================] - 0s 1ms/step - loss: 0.5920 - accuracy: 0.6806\n",
      "Epoch 27/100\n",
      "77/77 [==============================] - 0s 976us/step - loss: 0.5884 - accuracy: 0.7040\n",
      "Epoch 28/100\n",
      "77/77 [==============================] - 0s 952us/step - loss: 0.5911 - accuracy: 0.7066\n",
      "Epoch 29/100\n",
      "77/77 [==============================] - 0s 1ms/step - loss: 0.6014 - accuracy: 0.6923\n",
      "Epoch 30/100\n",
      "77/77 [==============================] - 0s 1ms/step - loss: 0.5858 - accuracy: 0.6988: 0s - loss: 0.6078 - accuracy: 0.67\n",
      "Epoch 31/100\n",
      "77/77 [==============================] - 0s 1ms/step - loss: 0.5816 - accuracy: 0.7053\n",
      "Epoch 32/100\n",
      "77/77 [==============================] - 0s 1ms/step - loss: 0.5793 - accuracy: 0.7132\n",
      "Epoch 33/100\n",
      "77/77 [==============================] - 0s 951us/step - loss: 0.5756 - accuracy: 0.7066\n",
      "Epoch 34/100\n",
      "77/77 [==============================] - 0s 986us/step - loss: 0.5701 - accuracy: 0.7053\n",
      "Epoch 35/100\n",
      "77/77 [==============================] - 0s 1ms/step - loss: 0.5743 - accuracy: 0.6962\n",
      "Epoch 36/100\n",
      "77/77 [==============================] - 0s 1ms/step - loss: 0.5899 - accuracy: 0.6871\n",
      "Epoch 37/100\n",
      "77/77 [==============================] - 0s 1ms/step - loss: 0.5775 - accuracy: 0.7001\n",
      "Epoch 38/100\n",
      "77/77 [==============================] - 0s 1ms/step - loss: 0.5727 - accuracy: 0.7132\n",
      "Epoch 39/100\n",
      "77/77 [==============================] - 0s 996us/step - loss: 0.5702 - accuracy: 0.6975\n",
      "Epoch 40/100\n",
      "77/77 [==============================] - 0s 1ms/step - loss: 0.5948 - accuracy: 0.7040\n",
      "Epoch 41/100\n",
      "77/77 [==============================] - 0s 986us/step - loss: 0.5644 - accuracy: 0.7080\n",
      "Epoch 42/100\n",
      "77/77 [==============================] - 0s 1ms/step - loss: 0.5681 - accuracy: 0.7001\n",
      "Epoch 43/100\n",
      "77/77 [==============================] - 0s 1ms/step - loss: 0.5615 - accuracy: 0.7053\n",
      "Epoch 44/100\n",
      "77/77 [==============================] - 0s 1ms/step - loss: 0.5588 - accuracy: 0.7197\n",
      "Epoch 45/100\n",
      "77/77 [==============================] - 0s 1ms/step - loss: 0.5636 - accuracy: 0.7080\n",
      "Epoch 46/100\n",
      "77/77 [==============================] - 0s 1ms/step - loss: 0.5632 - accuracy: 0.7145\n",
      "Epoch 47/100\n",
      "77/77 [==============================] - 0s 968us/step - loss: 0.5739 - accuracy: 0.7275\n",
      "Epoch 48/100\n",
      "77/77 [==============================] - 0s 951us/step - loss: 0.5615 - accuracy: 0.7314\n",
      "Epoch 49/100\n",
      "77/77 [==============================] - 0s 997us/step - loss: 0.5575 - accuracy: 0.7080\n",
      "Epoch 50/100\n",
      "77/77 [==============================] - 0s 1ms/step - loss: 0.5629 - accuracy: 0.7210\n",
      "Epoch 51/100\n",
      "77/77 [==============================] - 0s 1ms/step - loss: 0.5577 - accuracy: 0.7053\n",
      "Epoch 52/100\n",
      "77/77 [==============================] - 0s 1ms/step - loss: 0.5658 - accuracy: 0.6975\n",
      "Epoch 53/100\n",
      "77/77 [==============================] - 0s 1ms/step - loss: 0.5660 - accuracy: 0.7040\n",
      "Epoch 54/100\n",
      "77/77 [==============================] - 0s 1ms/step - loss: 0.5623 - accuracy: 0.7066\n",
      "Epoch 55/100\n",
      "77/77 [==============================] - 0s 1ms/step - loss: 0.5543 - accuracy: 0.7132\n",
      "Epoch 56/100\n",
      "77/77 [==============================] - 0s 898us/step - loss: 0.5558 - accuracy: 0.7236\n",
      "Epoch 57/100\n",
      "77/77 [==============================] - 0s 959us/step - loss: 0.5534 - accuracy: 0.7223\n",
      "Epoch 58/100\n",
      "77/77 [==============================] - 0s 1ms/step - loss: 0.5587 - accuracy: 0.7197\n",
      "Epoch 59/100\n",
      "77/77 [==============================] - 0s 1ms/step - loss: 0.5465 - accuracy: 0.7301\n",
      "Epoch 60/100\n",
      "77/77 [==============================] - 0s 950us/step - loss: 0.5482 - accuracy: 0.7145\n",
      "Epoch 61/100\n",
      "77/77 [==============================] - 0s 1ms/step - loss: 0.5602 - accuracy: 0.7171\n",
      "Epoch 62/100\n",
      "77/77 [==============================] - 0s 956us/step - loss: 0.5463 - accuracy: 0.7262\n",
      "Epoch 63/100\n",
      "77/77 [==============================] - 0s 860us/step - loss: 0.5467 - accuracy: 0.7301\n",
      "Epoch 64/100\n",
      "77/77 [==============================] - 0s 956us/step - loss: 0.5441 - accuracy: 0.7275\n",
      "Epoch 65/100\n",
      "77/77 [==============================] - 0s 980us/step - loss: 0.5450 - accuracy: 0.7210\n",
      "Epoch 66/100\n",
      "77/77 [==============================] - 0s 989us/step - loss: 0.5434 - accuracy: 0.7275\n",
      "Epoch 67/100\n",
      "77/77 [==============================] - 0s 998us/step - loss: 0.5437 - accuracy: 0.7223\n",
      "Epoch 68/100\n",
      "77/77 [==============================] - 0s 960us/step - loss: 0.5455 - accuracy: 0.7275\n",
      "Epoch 69/100\n",
      "77/77 [==============================] - 0s 989us/step - loss: 0.5494 - accuracy: 0.7405\n",
      "Epoch 70/100\n",
      "77/77 [==============================] - 0s 1ms/step - loss: 0.5458 - accuracy: 0.7262\n",
      "Epoch 71/100\n",
      "77/77 [==============================] - 0s 1ms/step - loss: 0.5386 - accuracy: 0.7236\n",
      "Epoch 72/100\n",
      "77/77 [==============================] - 0s 960us/step - loss: 0.5404 - accuracy: 0.73530s - loss: 0.5374 - accuracy: 0.73\n",
      "Epoch 73/100\n",
      "77/77 [==============================] - 0s 1ms/step - loss: 0.5371 - accuracy: 0.7392\n",
      "Epoch 74/100\n",
      "77/77 [==============================] - 0s 983us/step - loss: 0.5369 - accuracy: 0.7340\n",
      "Epoch 75/100\n",
      "77/77 [==============================] - 0s 935us/step - loss: 0.5413 - accuracy: 0.7314\n",
      "Epoch 76/100\n",
      "77/77 [==============================] - 0s 963us/step - loss: 0.5348 - accuracy: 0.7392\n",
      "Epoch 77/100\n",
      "77/77 [==============================] - 0s 977us/step - loss: 0.5395 - accuracy: 0.7158\n",
      "Epoch 78/100\n",
      "77/77 [==============================] - 0s 931us/step - loss: 0.5370 - accuracy: 0.7249\n",
      "Epoch 79/100\n",
      "77/77 [==============================] - 0s 933us/step - loss: 0.5325 - accuracy: 0.7419\n",
      "Epoch 80/100\n",
      "77/77 [==============================] - 0s 969us/step - loss: 0.5331 - accuracy: 0.7445\n",
      "Epoch 81/100\n"
     ]
    },
    {
     "name": "stdout",
     "output_type": "stream",
     "text": [
      "77/77 [==============================] - 0s 991us/step - loss: 0.5339 - accuracy: 0.7249\n",
      "Epoch 82/100\n",
      "77/77 [==============================] - 0s 921us/step - loss: 0.5363 - accuracy: 0.7275\n",
      "Epoch 83/100\n",
      "77/77 [==============================] - 0s 910us/step - loss: 0.5292 - accuracy: 0.73920s - loss: 0.5180 - accuracy: 0.76\n",
      "Epoch 84/100\n",
      "77/77 [==============================] - 0s 919us/step - loss: 0.5306 - accuracy: 0.7327\n",
      "Epoch 85/100\n",
      "77/77 [==============================] - 0s 899us/step - loss: 0.5276 - accuracy: 0.7288\n",
      "Epoch 86/100\n",
      "77/77 [==============================] - 0s 1ms/step - loss: 0.5342 - accuracy: 0.7445\n",
      "Epoch 87/100\n",
      "77/77 [==============================] - ETA: 0s - loss: 0.5140 - accuracy: 0.75 - 0s 980us/step - loss: 0.5236 - accuracy: 0.7445\n",
      "Epoch 88/100\n",
      "77/77 [==============================] - 0s 902us/step - loss: 0.5210 - accuracy: 0.7405\n",
      "Epoch 89/100\n",
      "77/77 [==============================] - 0s 879us/step - loss: 0.5315 - accuracy: 0.7197\n",
      "Epoch 90/100\n",
      "77/77 [==============================] - 0s 902us/step - loss: 0.5278 - accuracy: 0.7432\n",
      "Epoch 91/100\n",
      "77/77 [==============================] - 0s 919us/step - loss: 0.5282 - accuracy: 0.7445\n",
      "Epoch 92/100\n",
      "77/77 [==============================] - 0s 924us/step - loss: 0.5227 - accuracy: 0.7445\n",
      "Epoch 93/100\n",
      "77/77 [==============================] - 0s 928us/step - loss: 0.5166 - accuracy: 0.7484\n",
      "Epoch 94/100\n",
      "77/77 [==============================] - 0s 937us/step - loss: 0.5168 - accuracy: 0.7588\n",
      "Epoch 95/100\n",
      "77/77 [==============================] - 0s 978us/step - loss: 0.5205 - accuracy: 0.7445\n",
      "Epoch 96/100\n",
      "77/77 [==============================] - 0s 896us/step - loss: 0.5139 - accuracy: 0.7497\n",
      "Epoch 97/100\n",
      "77/77 [==============================] - 0s 908us/step - loss: 0.5221 - accuracy: 0.7405\n",
      "Epoch 98/100\n",
      "77/77 [==============================] - 0s 931us/step - loss: 0.5224 - accuracy: 0.7405\n",
      "Epoch 99/100\n",
      "77/77 [==============================] - 0s 906us/step - loss: 0.5225 - accuracy: 0.7523\n",
      "Epoch 100/100\n",
      "77/77 [==============================] - 0s 968us/step - loss: 0.5188 - accuracy: 0.7562\n"
     ]
    },
    {
     "data": {
      "text/plain": [
       "<keras.callbacks.History at 0x22bdefb5670>"
      ]
     },
     "execution_count": 9,
     "metadata": {},
     "output_type": "execute_result"
    }
   ],
   "source": [
    "model=Sequential()\n",
    "model.add(Dense(12,input_dim=8,activation='relu'))\n",
    "model.add(Dense(8,activation='relu'))\n",
    "model.add(Dense(1,activation='sigmoid'))\n",
    "model.compile(loss='binary_crossentropy',optimizer='adam',metrics=['accuracy'])\n",
    "model.fit(X,y,epochs=100,batch_size=10)"
   ]
  },
  {
   "cell_type": "code",
   "execution_count": 10,
   "metadata": {},
   "outputs": [
    {
     "name": "stdout",
     "output_type": "stream",
     "text": [
      "24/24 [==============================] - 0s 1ms/step - loss: 0.4996 - accuracy: 0.7614\n",
      "Accuracy: 76.14\n"
     ]
    }
   ],
   "source": [
    "_,accuracy=model.evaluate(X,y)\n",
    "print('Accuracy: %.2f' % (accuracy*100))"
   ]
  },
  {
   "cell_type": "code",
   "execution_count": 11,
   "metadata": {},
   "outputs": [],
   "source": [
    "ann_viz(model, view=True, filename=\"Neural_network.pdf\", title=\"MyNeural Network\")"
   ]
  },
  {
   "cell_type": "code",
   "execution_count": 12,
   "metadata": {},
   "outputs": [],
   "source": [
    "import numpy as np\n",
    "predictions=np.round_(model.predict(X))\n",
    "\n",
    "df1=pd.DataFrame()\n",
    "\n",
    "df1.insert(0,'Actual Class',y,True)\n",
    "df1.insert(1,'Predicted Class',predictions,True)"
   ]
  },
  {
   "cell_type": "code",
   "execution_count": 13,
   "metadata": {},
   "outputs": [
    {
     "data": {
      "text/html": [
       "<div>\n",
       "<style scoped>\n",
       "    .dataframe tbody tr th:only-of-type {\n",
       "        vertical-align: middle;\n",
       "    }\n",
       "\n",
       "    .dataframe tbody tr th {\n",
       "        vertical-align: top;\n",
       "    }\n",
       "\n",
       "    .dataframe thead th {\n",
       "        text-align: right;\n",
       "    }\n",
       "</style>\n",
       "<table border=\"1\" class=\"dataframe\">\n",
       "  <thead>\n",
       "    <tr style=\"text-align: right;\">\n",
       "      <th></th>\n",
       "      <th>Actual Class</th>\n",
       "      <th>Predicted Class</th>\n",
       "    </tr>\n",
       "  </thead>\n",
       "  <tbody>\n",
       "    <tr>\n",
       "      <th>0</th>\n",
       "      <td>0</td>\n",
       "      <td>0.0</td>\n",
       "    </tr>\n",
       "    <tr>\n",
       "      <th>1</th>\n",
       "      <td>1</td>\n",
       "      <td>1.0</td>\n",
       "    </tr>\n",
       "    <tr>\n",
       "      <th>2</th>\n",
       "      <td>0</td>\n",
       "      <td>0.0</td>\n",
       "    </tr>\n",
       "    <tr>\n",
       "      <th>3</th>\n",
       "      <td>1</td>\n",
       "      <td>1.0</td>\n",
       "    </tr>\n",
       "    <tr>\n",
       "      <th>4</th>\n",
       "      <td>0</td>\n",
       "      <td>0.0</td>\n",
       "    </tr>\n",
       "  </tbody>\n",
       "</table>\n",
       "</div>"
      ],
      "text/plain": [
       "   Actual Class  Predicted Class\n",
       "0             0              0.0\n",
       "1             1              1.0\n",
       "2             0              0.0\n",
       "3             1              1.0\n",
       "4             0              0.0"
      ]
     },
     "execution_count": 13,
     "metadata": {},
     "output_type": "execute_result"
    }
   ],
   "source": [
    "df1.head()"
   ]
  },
  {
   "cell_type": "code",
   "execution_count": null,
   "metadata": {},
   "outputs": [],
   "source": [
    "print('exe')"
   ]
  }
 ],
 "metadata": {
  "kernelspec": {
   "display_name": "Python 3 (ipykernel)",
   "language": "python",
   "name": "python3"
  },
  "language_info": {
   "codemirror_mode": {
    "name": "ipython",
    "version": 3
   },
   "file_extension": ".py",
   "mimetype": "text/x-python",
   "name": "python",
   "nbconvert_exporter": "python",
   "pygments_lexer": "ipython3",
   "version": "3.9.7"
  }
 },
 "nbformat": 4,
 "nbformat_minor": 4
}
