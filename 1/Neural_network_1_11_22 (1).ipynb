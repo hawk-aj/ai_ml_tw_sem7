{
 "cells": [
  {
   "cell_type": "code",
   "execution_count": 1,
   "metadata": {},
   "outputs": [
    {
     "name": "stdout",
     "output_type": "stream",
     "text": [
      "Requirement already satisfied: ann_visualizer in c:\\programdata\\anaconda3\\lib\\site-packages (2.5)\n",
      "Requirement already satisfied: graphviz in c:\\programdata\\anaconda3\\lib\\site-packages (0.20.1)\n"
     ]
    }
   ],
   "source": [
    "!pip install ann_visualizer\n",
    "!pip install graphviz"
   ]
  },
  {
   "cell_type": "code",
   "execution_count": 3,
   "metadata": {},
   "outputs": [],
   "source": [
    "import pandas as pd\n",
    "from keras.models import Sequential\n",
    "from keras.layers import Dense\n",
    "from ann_visualizer.visualize import ann_viz"
   ]
  },
  {
   "cell_type": "code",
   "execution_count": 4,
   "metadata": {},
   "outputs": [],
   "source": [
    "import os\n",
    "os.environ[\"PATH\"] += os.pathsep + 'C:/Program Files/Graphviz/bin'"
   ]
  },
  {
   "cell_type": "code",
   "execution_count": 5,
   "metadata": {},
   "outputs": [],
   "source": [
    "df = pd.read_csv('pima-indians-diabetes.csv')"
   ]
  },
  {
   "cell_type": "code",
   "execution_count": 6,
   "metadata": {},
   "outputs": [
    {
     "name": "stdout",
     "output_type": "stream",
     "text": [
      "<class 'pandas.core.frame.DataFrame'>\n",
      "RangeIndex: 767 entries, 0 to 766\n",
      "Data columns (total 9 columns):\n",
      " #   Column  Non-Null Count  Dtype  \n",
      "---  ------  --------------  -----  \n",
      " 0   6       767 non-null    int64  \n",
      " 1   148     767 non-null    int64  \n",
      " 2   72      767 non-null    int64  \n",
      " 3   35      767 non-null    int64  \n",
      " 4   0       767 non-null    int64  \n",
      " 5   33.6    767 non-null    float64\n",
      " 6   0.627   767 non-null    float64\n",
      " 7   50      767 non-null    int64  \n",
      " 8   1       767 non-null    int64  \n",
      "dtypes: float64(2), int64(7)\n",
      "memory usage: 54.1 KB\n"
     ]
    }
   ],
   "source": [
    "df.info()"
   ]
  },
  {
   "cell_type": "code",
   "execution_count": 7,
   "metadata": {},
   "outputs": [
    {
     "data": {
      "text/plain": [
       "Index(['6', '148', '72', '35', '0', '33.6', '0.627', '50', '1'], dtype='object')"
      ]
     },
     "execution_count": 7,
     "metadata": {},
     "output_type": "execute_result"
    }
   ],
   "source": [
    "df.columns"
   ]
  },
  {
   "cell_type": "code",
   "execution_count": 8,
   "metadata": {},
   "outputs": [],
   "source": [
    "X=df.iloc[:,0:-1].values"
   ]
  },
  {
   "cell_type": "code",
   "execution_count": 9,
   "metadata": {},
   "outputs": [],
   "source": [
    "y=df.iloc[:,8].values"
   ]
  },
  {
   "cell_type": "code",
   "execution_count": 10,
   "metadata": {},
   "outputs": [
    {
     "name": "stdout",
     "output_type": "stream",
     "text": [
      "Epoch 1/100\n",
      "77/77 [==============================] - 1s 922us/step - loss: 6.0954 - accuracy: 0.5632\n",
      "Epoch 2/100\n",
      "77/77 [==============================] - 0s 922us/step - loss: 2.7887 - accuracy: 0.4941\n",
      "Epoch 3/100\n",
      "77/77 [==============================] - 0s 922us/step - loss: 1.6564 - accuracy: 0.5645\n",
      "Epoch 4/100\n",
      "77/77 [==============================] - 0s 924us/step - loss: 1.2774 - accuracy: 0.5880\n",
      "Epoch 5/100\n",
      "77/77 [==============================] - 0s 909us/step - loss: 1.0479 - accuracy: 0.6063\n",
      "Epoch 6/100\n",
      "77/77 [==============================] - 0s 953us/step - loss: 0.8995 - accuracy: 0.6128\n",
      "Epoch 7/100\n",
      "77/77 [==============================] - 0s 935us/step - loss: 0.7921 - accuracy: 0.6206\n",
      "Epoch 8/100\n",
      "77/77 [==============================] - 0s 962us/step - loss: 0.7458 - accuracy: 0.6336\n",
      "Epoch 9/100\n",
      "77/77 [==============================] - 0s 928us/step - loss: 0.7025 - accuracy: 0.6310\n",
      "Epoch 10/100\n",
      "77/77 [==============================] - 0s 934us/step - loss: 0.6805 - accuracy: 0.6493\n",
      "Epoch 11/100\n",
      "77/77 [==============================] - 0s 933us/step - loss: 0.6645 - accuracy: 0.6454\n",
      "Epoch 12/100\n",
      "77/77 [==============================] - 0s 966us/step - loss: 0.6503 - accuracy: 0.6584\n",
      "Epoch 13/100\n",
      "77/77 [==============================] - 0s 948us/step - loss: 0.6414 - accuracy: 0.6636\n",
      "Epoch 14/100\n",
      "77/77 [==============================] - 0s 948us/step - loss: 0.6304 - accuracy: 0.6728\n",
      "Epoch 15/100\n",
      "77/77 [==============================] - 0s 964us/step - loss: 0.6359 - accuracy: 0.6584\n",
      "Epoch 16/100\n",
      "77/77 [==============================] - 0s 948us/step - loss: 0.6352 - accuracy: 0.6649\n",
      "Epoch 17/100\n",
      "77/77 [==============================] - 0s 947us/step - loss: 0.6186 - accuracy: 0.6701\n",
      "Epoch 18/100\n",
      "77/77 [==============================] - 0s 963us/step - loss: 0.6106 - accuracy: 0.6767\n",
      "Epoch 19/100\n",
      "77/77 [==============================] - 0s 961us/step - loss: 0.6137 - accuracy: 0.6662\n",
      "Epoch 20/100\n",
      "77/77 [==============================] - 0s 942us/step - loss: 0.6058 - accuracy: 0.6728\n",
      "Epoch 21/100\n",
      "77/77 [==============================] - 0s 992us/step - loss: 0.6133 - accuracy: 0.6819\n",
      "Epoch 22/100\n",
      "77/77 [==============================] - 0s 983us/step - loss: 0.6027 - accuracy: 0.6662\n",
      "Epoch 23/100\n",
      "77/77 [==============================] - 0s 955us/step - loss: 0.6220 - accuracy: 0.6688\n",
      "Epoch 24/100\n",
      "77/77 [==============================] - 0s 1ms/step - loss: 0.6034 - accuracy: 0.6806\n",
      "Epoch 25/100\n",
      "77/77 [==============================] - 0s 922us/step - loss: 0.6070 - accuracy: 0.6754\n",
      "Epoch 26/100\n",
      "77/77 [==============================] - 0s 895us/step - loss: 0.6036 - accuracy: 0.6701\n",
      "Epoch 27/100\n",
      "77/77 [==============================] - 0s 895us/step - loss: 0.5962 - accuracy: 0.6871\n",
      "Epoch 28/100\n",
      "77/77 [==============================] - 0s 906us/step - loss: 0.5967 - accuracy: 0.6845\n",
      "Epoch 29/100\n",
      "77/77 [==============================] - 0s 909us/step - loss: 0.5950 - accuracy: 0.6871\n",
      "Epoch 30/100\n",
      "77/77 [==============================] - 0s 948us/step - loss: 0.5937 - accuracy: 0.6741\n",
      "Epoch 31/100\n",
      "77/77 [==============================] - 0s 922us/step - loss: 0.5996 - accuracy: 0.6871\n",
      "Epoch 32/100\n",
      "77/77 [==============================] - 0s 909us/step - loss: 0.5909 - accuracy: 0.7001\n",
      "Epoch 33/100\n",
      "77/77 [==============================] - 0s 895us/step - loss: 0.5898 - accuracy: 0.6910\n",
      "Epoch 34/100\n",
      "77/77 [==============================] - 0s 930us/step - loss: 0.5851 - accuracy: 0.6832\n",
      "Epoch 35/100\n",
      "77/77 [==============================] - 0s 922us/step - loss: 0.5913 - accuracy: 0.6910\n",
      "Epoch 36/100\n",
      "77/77 [==============================] - 0s 940us/step - loss: 0.5830 - accuracy: 0.6871\n",
      "Epoch 37/100\n",
      "77/77 [==============================] - 0s 961us/step - loss: 0.5809 - accuracy: 0.7001\n",
      "Epoch 38/100\n",
      "77/77 [==============================] - 0s 895us/step - loss: 0.5785 - accuracy: 0.7106\n",
      "Epoch 39/100\n",
      "77/77 [==============================] - 0s 922us/step - loss: 0.5745 - accuracy: 0.7066\n",
      "Epoch 40/100\n",
      "77/77 [==============================] - 0s 935us/step - loss: 0.5769 - accuracy: 0.7119\n",
      "Epoch 41/100\n",
      "77/77 [==============================] - 0s 895us/step - loss: 0.5795 - accuracy: 0.7053\n",
      "Epoch 42/100\n",
      "77/77 [==============================] - 0s 909us/step - loss: 0.5719 - accuracy: 0.6897\n",
      "Epoch 43/100\n",
      "77/77 [==============================] - 0s 909us/step - loss: 0.5772 - accuracy: 0.7119\n",
      "Epoch 44/100\n",
      "77/77 [==============================] - 0s 908us/step - loss: 0.5784 - accuracy: 0.7053\n",
      "Epoch 45/100\n",
      "77/77 [==============================] - 0s 935us/step - loss: 0.5704 - accuracy: 0.7040\n",
      "Epoch 46/100\n",
      "77/77 [==============================] - 0s 909us/step - loss: 0.5802 - accuracy: 0.6988\n",
      "Epoch 47/100\n",
      "77/77 [==============================] - 0s 896us/step - loss: 0.5705 - accuracy: 0.6949\n",
      "Epoch 48/100\n",
      "77/77 [==============================] - 0s 922us/step - loss: 0.5769 - accuracy: 0.7027\n",
      "Epoch 49/100\n",
      "77/77 [==============================] - 0s 948us/step - loss: 0.5829 - accuracy: 0.6962\n",
      "Epoch 50/100\n",
      "77/77 [==============================] - 0s 1ms/step - loss: 0.5699 - accuracy: 0.7236\n",
      "Epoch 51/100\n",
      "77/77 [==============================] - 0s 909us/step - loss: 0.5662 - accuracy: 0.7158\n",
      "Epoch 52/100\n",
      "77/77 [==============================] - 0s 909us/step - loss: 0.5644 - accuracy: 0.6936\n",
      "Epoch 53/100\n",
      "77/77 [==============================] - 0s 909us/step - loss: 0.5650 - accuracy: 0.7119\n",
      "Epoch 54/100\n",
      "77/77 [==============================] - 0s 896us/step - loss: 0.5637 - accuracy: 0.7027\n",
      "Epoch 55/100\n",
      "77/77 [==============================] - 0s 869us/step - loss: 0.5685 - accuracy: 0.7027\n",
      "Epoch 56/100\n",
      "77/77 [==============================] - 0s 895us/step - loss: 0.5706 - accuracy: 0.7027\n",
      "Epoch 57/100\n",
      "77/77 [==============================] - 0s 922us/step - loss: 0.5664 - accuracy: 0.7093\n",
      "Epoch 58/100\n",
      "77/77 [==============================] - 0s 882us/step - loss: 0.5616 - accuracy: 0.7171\n",
      "Epoch 59/100\n",
      "77/77 [==============================] - 0s 895us/step - loss: 0.5615 - accuracy: 0.7119\n",
      "Epoch 60/100\n",
      "77/77 [==============================] - 0s 922us/step - loss: 0.5560 - accuracy: 0.7210\n",
      "Epoch 61/100\n",
      "77/77 [==============================] - 0s 882us/step - loss: 0.5672 - accuracy: 0.6975\n",
      "Epoch 62/100\n",
      "77/77 [==============================] - 0s 882us/step - loss: 0.5636 - accuracy: 0.6988\n",
      "Epoch 63/100\n",
      "77/77 [==============================] - 0s 895us/step - loss: 0.5531 - accuracy: 0.7119\n",
      "Epoch 64/100\n",
      "77/77 [==============================] - 0s 882us/step - loss: 0.5582 - accuracy: 0.7014\n",
      "Epoch 65/100\n",
      "77/77 [==============================] - 0s 963us/step - loss: 0.5728 - accuracy: 0.7184\n",
      "Epoch 66/100\n",
      "77/77 [==============================] - 0s 869us/step - loss: 0.5527 - accuracy: 0.7053\n",
      "Epoch 67/100\n",
      "77/77 [==============================] - 0s 922us/step - loss: 0.5587 - accuracy: 0.7171\n",
      "Epoch 68/100\n",
      "77/77 [==============================] - 0s 988us/step - loss: 0.5513 - accuracy: 0.7210\n",
      "Epoch 69/100\n",
      "77/77 [==============================] - 0s 882us/step - loss: 0.5482 - accuracy: 0.7145\n",
      "Epoch 70/100\n",
      "77/77 [==============================] - 0s 869us/step - loss: 0.5483 - accuracy: 0.7119\n",
      "Epoch 71/100\n",
      "77/77 [==============================] - 0s 922us/step - loss: 0.5507 - accuracy: 0.7145\n",
      "Epoch 72/100\n",
      "77/77 [==============================] - 0s 908us/step - loss: 0.5474 - accuracy: 0.7223\n",
      "Epoch 73/100\n",
      "77/77 [==============================] - 0s 869us/step - loss: 0.5493 - accuracy: 0.7197\n",
      "Epoch 74/100\n",
      "77/77 [==============================] - 0s 882us/step - loss: 0.5448 - accuracy: 0.7262\n",
      "Epoch 75/100\n",
      "77/77 [==============================] - 0s 887us/step - loss: 0.5437 - accuracy: 0.7093\n",
      "Epoch 76/100\n",
      "77/77 [==============================] - 0s 909us/step - loss: 0.5493 - accuracy: 0.7327\n",
      "Epoch 77/100\n",
      "77/77 [==============================] - 0s 935us/step - loss: 0.5485 - accuracy: 0.7249\n",
      "Epoch 78/100\n",
      "77/77 [==============================] - 0s 942us/step - loss: 0.5426 - accuracy: 0.7353\n",
      "Epoch 79/100\n",
      "77/77 [==============================] - 0s 1ms/step - loss: 0.5485 - accuracy: 0.7314\n",
      "Epoch 80/100\n",
      "77/77 [==============================] - 0s 948us/step - loss: 0.5402 - accuracy: 0.7327\n",
      "Epoch 81/100\n",
      "77/77 [==============================] - 0s 869us/step - loss: 0.5521 - accuracy: 0.7145\n",
      "Epoch 82/100\n",
      "77/77 [==============================] - 0s 895us/step - loss: 0.5356 - accuracy: 0.7171\n",
      "Epoch 83/100\n",
      "77/77 [==============================] - 0s 882us/step - loss: 0.5498 - accuracy: 0.7236\n",
      "Epoch 84/100\n",
      "77/77 [==============================] - 0s 889us/step - loss: 0.5420 - accuracy: 0.7223\n",
      "Epoch 85/100\n",
      "77/77 [==============================] - 0s 876us/step - loss: 0.5441 - accuracy: 0.7106\n",
      "Epoch 86/100\n",
      "77/77 [==============================] - 0s 902us/step - loss: 0.5430 - accuracy: 0.7223\n",
      "Epoch 87/100\n",
      "77/77 [==============================] - 0s 840us/step - loss: 0.5336 - accuracy: 0.7249\n",
      "Epoch 88/100\n",
      "77/77 [==============================] - 0s 897us/step - loss: 0.5393 - accuracy: 0.7210\n",
      "Epoch 89/100\n",
      "77/77 [==============================] - 0s 882us/step - loss: 0.5311 - accuracy: 0.7288\n",
      "Epoch 90/100\n",
      "77/77 [==============================] - 0s 879us/step - loss: 0.5451 - accuracy: 0.7197\n",
      "Epoch 91/100\n",
      "77/77 [==============================] - 0s 895us/step - loss: 0.5451 - accuracy: 0.7184\n",
      "Epoch 92/100\n",
      "77/77 [==============================] - 0s 1ms/step - loss: 0.5360 - accuracy: 0.7249\n",
      "Epoch 93/100\n",
      "77/77 [==============================] - 0s 899us/step - loss: 0.5281 - accuracy: 0.7301\n",
      "Epoch 94/100\n",
      "77/77 [==============================] - 0s 1ms/step - loss: 0.5324 - accuracy: 0.7249\n",
      "Epoch 95/100\n",
      "77/77 [==============================] - 0s 1ms/step - loss: 0.5250 - accuracy: 0.7327\n",
      "Epoch 96/100\n",
      "77/77 [==============================] - 0s 1ms/step - loss: 0.5406 - accuracy: 0.7223\n",
      "Epoch 97/100\n",
      "77/77 [==============================] - 0s 1ms/step - loss: 0.5324 - accuracy: 0.7327\n",
      "Epoch 98/100\n",
      "77/77 [==============================] - 0s 1ms/step - loss: 0.5289 - accuracy: 0.7432\n",
      "Epoch 99/100\n",
      "77/77 [==============================] - 0s 1ms/step - loss: 0.5345 - accuracy: 0.7301\n",
      "Epoch 100/100\n",
      "77/77 [==============================] - 0s 909us/step - loss: 0.5259 - accuracy: 0.7366\n"
     ]
    },
    {
     "data": {
      "text/plain": [
       "<keras.callbacks.History at 0xdc58f99070>"
      ]
     },
     "execution_count": 10,
     "metadata": {},
     "output_type": "execute_result"
    }
   ],
   "source": [
    "model=Sequential()\n",
    "model.add(Dense(12,input_dim=8,activation='relu'))\n",
    "model.add(Dense(8,activation='relu'))\n",
    "model.add(Dense(1,activation='sigmoid'))\n",
    "model.compile(loss='binary_crossentropy',optimizer='adam',metrics=['accuracy'])\n",
    "model.fit(X,y,epochs=100,batch_size=10)"
   ]
  },
  {
   "cell_type": "code",
   "execution_count": 11,
   "metadata": {},
   "outputs": [
    {
     "name": "stdout",
     "output_type": "stream",
     "text": [
      "24/24 [==============================] - 0s 870us/step - loss: 0.5113 - accuracy: 0.7445\n",
      "Accuracy: 74.45\n"
     ]
    }
   ],
   "source": [
    "_,accuracy=model.evaluate(X,y)\n",
    "print('Accuracy: %.2f' % (accuracy*100))"
   ]
  },
  {
   "cell_type": "code",
   "execution_count": 12,
   "metadata": {},
   "outputs": [],
   "source": [
    "ann_viz(model, view=True, filename=\"Neural_network.pdf\", title=\"MyNeural Network\")"
   ]
  },
  {
   "cell_type": "code",
   "execution_count": 13,
   "metadata": {},
   "outputs": [
    {
     "name": "stdout",
     "output_type": "stream",
     "text": [
      "24/24 [==============================] - 0s 783us/step\n"
     ]
    }
   ],
   "source": [
    "import numpy as np\n",
    "predictions=np.round_(model.predict(X))\n",
    "\n",
    "df1=pd.DataFrame()\n",
    "\n",
    "df1.insert(0,'Actual Class',y,True)\n",
    "df1.insert(1,'Predicted Class',predictions,True)"
   ]
  },
  {
   "cell_type": "code",
   "execution_count": 14,
   "metadata": {},
   "outputs": [
    {
     "data": {
      "text/html": [
       "<div>\n",
       "<style scoped>\n",
       "    .dataframe tbody tr th:only-of-type {\n",
       "        vertical-align: middle;\n",
       "    }\n",
       "\n",
       "    .dataframe tbody tr th {\n",
       "        vertical-align: top;\n",
       "    }\n",
       "\n",
       "    .dataframe thead th {\n",
       "        text-align: right;\n",
       "    }\n",
       "</style>\n",
       "<table border=\"1\" class=\"dataframe\">\n",
       "  <thead>\n",
       "    <tr style=\"text-align: right;\">\n",
       "      <th></th>\n",
       "      <th>Actual Class</th>\n",
       "      <th>Predicted Class</th>\n",
       "    </tr>\n",
       "  </thead>\n",
       "  <tbody>\n",
       "    <tr>\n",
       "      <th>0</th>\n",
       "      <td>0</td>\n",
       "      <td>0.0</td>\n",
       "    </tr>\n",
       "    <tr>\n",
       "      <th>1</th>\n",
       "      <td>1</td>\n",
       "      <td>1.0</td>\n",
       "    </tr>\n",
       "    <tr>\n",
       "      <th>2</th>\n",
       "      <td>0</td>\n",
       "      <td>0.0</td>\n",
       "    </tr>\n",
       "    <tr>\n",
       "      <th>3</th>\n",
       "      <td>1</td>\n",
       "      <td>0.0</td>\n",
       "    </tr>\n",
       "    <tr>\n",
       "      <th>4</th>\n",
       "      <td>0</td>\n",
       "      <td>0.0</td>\n",
       "    </tr>\n",
       "  </tbody>\n",
       "</table>\n",
       "</div>"
      ],
      "text/plain": [
       "   Actual Class  Predicted Class\n",
       "0             0              0.0\n",
       "1             1              1.0\n",
       "2             0              0.0\n",
       "3             1              0.0\n",
       "4             0              0.0"
      ]
     },
     "execution_count": 14,
     "metadata": {},
     "output_type": "execute_result"
    }
   ],
   "source": [
    "df1.head()"
   ]
  },
  {
   "cell_type": "code",
   "execution_count": null,
   "metadata": {},
   "outputs": [],
   "source": []
  }
 ],
 "metadata": {
  "kernelspec": {
   "display_name": "Python 3 (ipykernel)",
   "language": "python",
   "name": "python3"
  },
  "language_info": {
   "codemirror_mode": {
    "name": "ipython",
    "version": 3
   },
   "file_extension": ".py",
   "mimetype": "text/x-python",
   "name": "python",
   "nbconvert_exporter": "python",
   "pygments_lexer": "ipython3",
   "version": "3.9.7"
  }
 },
 "nbformat": 4,
 "nbformat_minor": 4
}
