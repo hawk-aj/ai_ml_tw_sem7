{
 "cells": [
  {
   "cell_type": "code",
   "execution_count": null,
   "id": "945eec5a",
   "metadata": {},
   "outputs": [],
   "source": [
    "#imports\n",
    "import numpy as np\n",
    "import pandas as pd\n",
    "import tensorflow as tf\n",
    "from tensorflow import keras\n",
    "\n",
    "from sklearn.utils import shuffle\n",
    "from sklearn.metrics import accuracy_score"
   ]
  },
  {
   "cell_type": "code",
   "execution_count": null,
   "id": "94073fdf",
   "metadata": {},
   "outputs": [],
   "source": [
    "#loading and processing datasets\n",
    "train_data = pd.read_csv(\"C:/Users/aj240/Downloads/Aarya Jha - mnist_train.csv\")\n",
    "test_data = pd.read_csv(\"C:/Users/aj240/Downloads/Aarya Jha - mnist_test.csv\")"
   ]
  },
  {
   "cell_type": "code",
   "execution_count": null,
   "id": "bfd67f15",
   "metadata": {},
   "outputs": [],
   "source": [
    "train = np.array(train_data)\n",
    "test = np.array(test_data)\n",
    "\n",
    "train_x = train[:,1:]\n",
    "train_y = pd.get_dummies(train[:,0])\n",
    "\n",
    "test_x = test[:,1:]\n",
    "test_y = pd.get_dummies(test[:,0])\n",
    "\n",
    "train_x = train_x.reshape(-1,28,28,1)\n",
    "test_x = test_x.reshape(-1,28,28,1)\n",
    "\n",
    "train_X,train_Y = shuffle(train_x, train_y)\n",
    "test_X,test_Y = shuffle(test_x, test_y)"
   ]
  },
  {
   "cell_type": "code",
   "execution_count": null,
   "id": "36fc0aa2",
   "metadata": {},
   "outputs": [],
   "source": [
    "#creating the neural network\n",
    "model = keras.Sequential()\n",
    "model.add(keras.layers.Conv2D(32, kernel_size=(3, 3),activation='relu',input_shape=(28,28,1)))\n",
    "model.add(keras.layers.Conv2D(64, (3, 3), activation='relu'))\n",
    "model.add(keras.layers.MaxPooling2D(pool_size=(2, 2)))\n",
    "model.add(keras.layers.Dropout(0.25))\n",
    "model.add(keras.layers.Flatten())\n",
    "model.add(keras.layers.Dense(128, activation='relu'))\n",
    "model.add(keras.layers.Dropout(0.5))\n",
    "model.add(keras.layers.Dense(10, activation='softmax'))"
   ]
  },
  {
   "cell_type": "code",
   "execution_count": null,
   "id": "2e90b803",
   "metadata": {},
   "outputs": [],
   "source": [
    "model.compile(optimizer = 'adam', loss = 'categorical_crossentropy', metrics = ['accuracy'])\n",
    "\n",
    "model.fit(train_X,train_Y, epochs = 10, validation_data=(test_X,test_Y))\n",
    "\n",
    "print(\"The model has successfully trained\")\n",
    "model.save('aj_mnist.h5')\n",
    "print(\"Saving the model as aj_mnist.h5\")"
   ]
  },
  {
   "cell_type": "code",
   "execution_count": null,
   "id": "54873111",
   "metadata": {},
   "outputs": [],
   "source": [
    "print('implemented by Aarya Jha on 15/11/22')"
   ]
  }
 ],
 "metadata": {
  "kernelspec": {
   "display_name": "Python 3 (ipykernel)",
   "language": "python",
   "name": "python3"
  },
  "language_info": {
   "codemirror_mode": {
    "name": "ipython",
    "version": 3
   },
   "file_extension": ".py",
   "mimetype": "text/x-python",
   "name": "python",
   "nbconvert_exporter": "python",
   "pygments_lexer": "ipython3",
   "version": "3.9.7"
  }
 },
 "nbformat": 4,
 "nbformat_minor": 5
}
