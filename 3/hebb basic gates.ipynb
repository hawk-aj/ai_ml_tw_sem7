{
 "cells": [
  {
   "cell_type": "code",
   "execution_count": 1,
   "id": "2c258b90",
   "metadata": {},
   "outputs": [],
   "source": [
    "import numpy as np \n",
    "from random import randint"
   ]
  },
  {
   "cell_type": "code",
   "execution_count": 2,
   "id": "981a621a",
   "metadata": {},
   "outputs": [],
   "source": [
    "X = np.array([[1,1,1],[1,-1,1],[-1,1,1],[-1,-1,1]])\n",
    "#output\n",
    "Y_ad=np.array([[1],[-1],[-1],[-1]])\n",
    "Y_o=np.array([[1],[1],[1],[-1]])"
   ]
  },
  {
   "cell_type": "code",
   "execution_count": 17,
   "id": "80c8f16f",
   "metadata": {},
   "outputs": [
    {
     "name": "stdout",
     "output_type": "stream",
     "text": [
      "input is:\n",
      "[[ 1  1  1]\n",
      " [ 1 -1  1]\n",
      " [-1  1  1]\n",
      " [-1 -1  1]]\n",
      "output for And Gate is: \n",
      "[[ 1]\n",
      " [-1]\n",
      " [-1]\n",
      " [-1]]\n",
      "output for Or Gate is: \n",
      "[[ 1]\n",
      " [-1]\n",
      " [-1]\n",
      " [-1]]\n",
      "[0. 0. 0.]\n",
      "[0. 0. 0.]\n"
     ]
    }
   ],
   "source": [
    "print('input is:')\n",
    "print(X)\n",
    "print('output for And Gate is: ')\n",
    "print(Y_ad)\n",
    "print('output for Or Gate is: ')\n",
    "print(Y_ad)\n",
    "weights_ad=np.zeros((3))\n",
    "weights_o=np.zeros((3))\n",
    "print(weights_ad)\n",
    "print(weights_o)"
   ]
  },
  {
   "cell_type": "code",
   "execution_count": 18,
   "id": "a1cd3dd7",
   "metadata": {},
   "outputs": [],
   "source": [
    "# update weight for and gate /logic\n",
    "def update_weight_ad(X,Y,weights):\n",
    "    for i in range(4):\n",
    "         \n",
    "        weights=weights+X[i]*Y[i]\n",
    "        \n",
    "        #print weights\n",
    "        slope =-(weights[0]/weights[1])\n",
    "        c=-(weights[2]/weights[0])\n",
    "        if slope<0 and weights[0]>0:\n",
    "            weights_main=weights\n",
    "        \n",
    "    return weights_main"
   ]
  },
  {
   "cell_type": "code",
   "execution_count": 19,
   "id": "0dd41b99",
   "metadata": {},
   "outputs": [],
   "source": [
    "def update_weight_o(X,Y,weights):\n",
    "    for i in range(4):\n",
    "         \n",
    "        weights=weights+X[i]*Y[i]\n",
    "        \n",
    "        #print weights\n",
    "        slope =-(weights[0]/weights[1])\n",
    "        c=-(weights[2]/weights[0])\n",
    "        if slope<0 and weights[0]>0:\n",
    "            weights_main=weights\n",
    "        \n",
    "    return weights_main"
   ]
  },
  {
   "cell_type": "code",
   "execution_count": 20,
   "id": "99bbfeda",
   "metadata": {},
   "outputs": [
    {
     "name": "stderr",
     "output_type": "stream",
     "text": [
      "C:\\Users\\aj240\\AppData\\Local\\Temp/ipykernel_3824/4010200372.py:9: RuntimeWarning: invalid value encountered in double_scalars\n",
      "  c=-(weights[2]/weights[0])\n",
      "C:\\Users\\aj240\\AppData\\Local\\Temp/ipykernel_3824/2802775205.py:7: RuntimeWarning: divide by zero encountered in double_scalars\n",
      "  slope =-(weights[0]/weights[1])\n"
     ]
    }
   ],
   "source": [
    "weights_ad=update_weight_ad(X,Y_ad,weights_ad)\n",
    "weights_o=update_weight_o(X,Y_o,weights_o)"
   ]
  },
  {
   "cell_type": "code",
   "execution_count": 21,
   "id": "46376530",
   "metadata": {},
   "outputs": [
    {
     "name": "stdout",
     "output_type": "stream",
     "text": [
      "Checking after learning selectg a input\n",
      "Enter the test case no you want to try1\n",
      "Select a logic you also want  to check\n",
      "2\n",
      "[ 2.  2. -2.]\n",
      "selected input is 1 \n",
      "[ 1 -1  1]\n"
     ]
    }
   ],
   "source": [
    "print('Checking after learning selectg a input')\n",
    "rand_int = int(input('Enter the test case no you want to try'))\n",
    "print('Select a logic you also want  to check')\n",
    "logicgate = input()\n",
    "print(weights_ad)\n",
    "print('selected input is %d '%rand_int)\n",
    "print(X[rand_int])"
   ]
  },
  {
   "cell_type": "code",
   "execution_count": 22,
   "id": "d8c2dc15",
   "metadata": {},
   "outputs": [],
   "source": [
    "def check_learning(X,weights,rand_int):\n",
    "    Yin=0\n",
    "    for i in range(3):\n",
    "        print(X[rand_int,i])\n",
    "        print(weights[i])\n",
    "        Yin += X[rand_int,i]*weights[i]\n",
    "    if Yin<0:\n",
    "        Yin=-1\n",
    "    else:\n",
    "        Yin=1\n",
    "    return Yin"
   ]
  },
  {
   "cell_type": "code",
   "execution_count": 23,
   "id": "b3cec4c4",
   "metadata": {},
   "outputs": [
    {
     "name": "stdout",
     "output_type": "stream",
     "text": [
      "1\n",
      "2.0\n",
      "-1\n",
      "2.0\n",
      "1\n",
      "2.0\n",
      "1\n"
     ]
    }
   ],
   "source": [
    "if logicgate=='a' or logicgate=='A':\n",
    "    weights_in = weights_ad\n",
    "else:\n",
    "    weights_in = weights_o\n",
    "Yin = check_learning(X, weights_in, rand_int)\n",
    "print(Yin)"
   ]
  },
  {
   "cell_type": "code",
   "execution_count": 24,
   "id": "52baff34",
   "metadata": {},
   "outputs": [
    {
     "name": "stdout",
     "output_type": "stream",
     "text": [
      "implemented by Aarya Jha on 15/11/22\n"
     ]
    }
   ],
   "source": [
    "print('implemented by Aarya Jha on 15/11/22')"
   ]
  },
  {
   "cell_type": "code",
   "execution_count": null,
   "id": "8e873856",
   "metadata": {},
   "outputs": [],
   "source": []
  }
 ],
 "metadata": {
  "kernelspec": {
   "display_name": "Python 3 (ipykernel)",
   "language": "python",
   "name": "python3"
  },
  "language_info": {
   "codemirror_mode": {
    "name": "ipython",
    "version": 3
   },
   "file_extension": ".py",
   "mimetype": "text/x-python",
   "name": "python",
   "nbconvert_exporter": "python",
   "pygments_lexer": "ipython3",
   "version": "3.9.7"
  }
 },
 "nbformat": 4,
 "nbformat_minor": 5
}
